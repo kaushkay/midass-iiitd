{
  "nbformat": 4,
  "nbformat_minor": 0,
  "metadata": {
    "colab": {
      "name": "CONV_MODEL.ipynb",
      "version": "0.3.2",
      "provenance": [],
      "collapsed_sections": [],
      "include_colab_link": true
    },
    "kernelspec": {
      "display_name": "Python 3",
      "language": "python",
      "name": "python3"
    },
    "accelerator": "GPU"
  },
  "cells": [
    {
      "cell_type": "markdown",
      "metadata": {
        "id": "view-in-github",
        "colab_type": "text"
      },
      "source": [
        "<a href=\"https://colab.research.google.com/github/kaushkay/midass-iiitd/blob/master/CV_Problem/CV_Problem.ipynb\" target=\"_parent\"><img src=\"https://colab.research.google.com/assets/colab-badge.svg\" alt=\"Open In Colab\"/></a>"
      ]
    },
    {
      "metadata": {
        "colab_type": "code",
        "id": "7dz-2b4CYCmG",
        "outputId": "02efc728-a061-4cb2-aa34-74af6cf1a9e2",
        "colab": {
          "base_uri": "https://localhost:8080/",
          "height": 34
        }
      },
      "cell_type": "code",
      "source": [
        "# Loading Dataset.\n",
        "\n",
        "from zipfile import ZipFile\n",
        "file_name = 'Vision_task_dataset_public-20190406T201525Z-001.zip'\n",
        "\n",
        "with ZipFile(file_name, 'r') as zip:\n",
        "    zip.extractall()\n",
        "    print(\"Done\")"
      ],
      "execution_count": 5,
      "outputs": [
        {
          "output_type": "stream",
          "text": [
            "Done\n"
          ],
          "name": "stdout"
        }
      ]
    },
    {
      "metadata": {
        "colab_type": "code",
        "id": "hklleZQeZSUi",
        "colab": {}
      },
      "cell_type": "code",
      "source": [
        "import numpy as np\n",
        "import pandas as pd\n",
        "import matplotlib.pyplot as plt"
      ],
      "execution_count": 0,
      "outputs": []
    },
    {
      "metadata": {
        "colab_type": "code",
        "id": "7Hvk3kg9Z1dW",
        "colab": {}
      },
      "cell_type": "code",
      "source": [
        "from keras.utils import np_utils\n",
        "import numpy as np\n",
        "import pandas as pd\n",
        "from sklearn.model_selection import train_test_split\n",
        "import tensorflow as tf\n",
        "import keras"
      ],
      "execution_count": 0,
      "outputs": []
    },
    {
      "metadata": {
        "colab_type": "code",
        "id": "2p_9HTkcZ4Wi",
        "colab": {}
      },
      "cell_type": "code",
      "source": [
        "train_images = pd.read_pickle('Vision_task_dataset_public/train_image.pkl')\n",
        "train_labels = pd.read_pickle('Vision_task_dataset_public/train_label.pkl')\n",
        "test_images = pd.read_pickle('Vision_task_dataset_public/test_image.pkl')"
      ],
      "execution_count": 0,
      "outputs": []
    },
    {
      "metadata": {
        "colab_type": "code",
        "id": "rNH9PjvfopJg",
        "outputId": "e73ac7d3-67b7-4ce0-a447-44afea4f5acd",
        "colab": {
          "base_uri": "https://localhost:8080/",
          "height": 364
        }
      },
      "cell_type": "code",
      "source": [
        "# Plotting the image!\n",
        "\n",
        "xyz = np.array(train_images)\n",
        "xyz = np.reshape(xyz, (xyz.shape[0], 28, 28))\n",
        "plt.imshow(xyz[45])"
      ],
      "execution_count": 9,
      "outputs": [
        {
          "output_type": "execute_result",
          "data": {
            "text/plain": [
              "<matplotlib.image.AxesImage at 0x7fe436617908>"
            ]
          },
          "metadata": {
            "tags": []
          },
          "execution_count": 9
        },
        {
          "output_type": "display_data",
          "data": {
            "image/png": "[encoded data removed]",
            "text/plain": [
              "<Figure size 576x396 with 1 Axes>"
            ]
          },
          "metadata": {
            "tags": []
          }
        }
      ]
    },
    {
      "metadata": {
        "colab_type": "code",
        "id": "4TzalNo5ZJvG",
        "colab": {}
      },
      "cell_type": "code",
      "source": [
        "images = np.array(train_images)\n",
        "images = np.reshape(images, (images.shape[0], 1, 28, 28))\n",
        "labels = np.array(train_labels)"
      ],
      "execution_count": 0,
      "outputs": []
    },
    {
      "metadata": {
        "colab_type": "code",
        "id": "brbZ5dsmoFP8",
        "outputId": "6bdcb590-3408-4239-ab6a-8e25b4900049",
        "colab": {
          "base_uri": "https://localhost:8080/",
          "height": 34
        }
      },
      "cell_type": "code",
      "source": [
        "images.shape"
      ],
      "execution_count": 11,
      "outputs": [
        {
          "output_type": "execute_result",
          "data": {
            "text/plain": [
              "(8000, 1, 28, 28)"
            ]
          },
          "metadata": {
            "tags": []
          },
          "execution_count": 11
        }
      ]
    },
    {
      "metadata": {
        "colab_type": "code",
        "id": "HEAZendaoHjK",
        "outputId": "8066052d-6d85-492e-8d58-33178e571404",
        "colab": {
          "base_uri": "https://localhost:8080/",
          "height": 34
        }
      },
      "cell_type": "code",
      "source": [
        "labels.shape"
      ],
      "execution_count": 12,
      "outputs": [
        {
          "output_type": "execute_result",
          "data": {
            "text/plain": [
              "(8000,)"
            ]
          },
          "metadata": {
            "tags": []
          },
          "execution_count": 12
        }
      ]
    },
    {
      "metadata": {
        "colab_type": "code",
        "id": "i4GcdJhnpROb",
        "outputId": "a96aea86-bdf4-419c-8124-09ff5bbd213d",
        "colab": {
          "base_uri": "https://localhost:8080/",
          "height": 34
        }
      },
      "cell_type": "code",
      "source": [
        "np.unique(labels)"
      ],
      "execution_count": 13,
      "outputs": [
        {
          "output_type": "execute_result",
          "data": {
            "text/plain": [
              "array([0, 2, 3, 6])"
            ]
          },
          "metadata": {
            "tags": []
          },
          "execution_count": 13
        }
      ]
    },
    {
      "metadata": {
        "colab_type": "code",
        "id": "3tUS4HGiqrfU",
        "colab": {}
      },
      "cell_type": "code",
      "source": [
        "labels = np_utils.to_categorical(labels)"
      ],
      "execution_count": 0,
      "outputs": []
    },
    {
      "metadata": {
        "colab_type": "code",
        "id": "4hFEjliurcss",
        "outputId": "654a33bf-8a23-4bdc-a09c-8d21fbc15232",
        "colab": {
          "base_uri": "https://localhost:8080/",
          "height": 34
        }
      },
      "cell_type": "code",
      "source": [
        "labels.shape"
      ],
      "execution_count": 15,
      "outputs": [
        {
          "output_type": "execute_result",
          "data": {
            "text/plain": [
              "(8000, 7)"
            ]
          },
          "metadata": {
            "tags": []
          },
          "execution_count": 15
        }
      ]
    },
    {
      "metadata": {
        "colab_type": "code",
        "id": "fH5OqaiUswv2",
        "colab": {}
      },
      "cell_type": "code",
      "source": [
        "#Spliting into Train-Val Set\n",
        "train_features, val_features, train_labels, val_labels = train_test_split(images, labels, test_size=0.15)"
      ],
      "execution_count": 0,
      "outputs": []
    },
    {
      "metadata": {
        "colab_type": "code",
        "id": "pWmJaBXgtNBo",
        "outputId": "28a5fc6b-d18f-4bf3-ab50-02eff3c2dc43",
        "colab": {
          "base_uri": "https://localhost:8080/",
          "height": 87
        }
      },
      "cell_type": "code",
      "source": [
        "print('train_features shape: ', train_features.shape)\n",
        "print('val_features shape: ', val_features.shape)\n",
        "print('train_labels shape: ', train_labels.shape)\n",
        "print('val_labels shape: ', val_labels.shape)"
      ],
      "execution_count": 17,
      "outputs": [
        {
          "output_type": "stream",
          "text": [
            "train_features shape:  (6800, 1, 28, 28)\n",
            "val_features shape:  (1200, 1, 28, 28)\n",
            "train_labels shape:  (6800, 7)\n",
            "val_labels shape:  (1200, 7)\n"
          ],
          "name": "stdout"
        }
      ]
    },
    {
      "metadata": {
        "colab_type": "code",
        "id": "r2NhkABXtXlS",
        "colab": {}
      },
      "cell_type": "code",
      "source": [
        "# hyperparameters\n",
        "epochs = 30\n",
        "batch_size = 256"
      ],
      "execution_count": 0,
      "outputs": []
    },
    {
      "metadata": {
        "colab_type": "code",
        "id": "qgvedWuwt4Jy",
        "colab": {
          "base_uri": "https://localhost:8080/",
          "height": 143
        },
        "outputId": "e45215eb-2ce0-4748-b492-8b621b72eda4"
      },
      "cell_type": "code",
      "source": [
        "# buildinf the model\n",
        "n_classes = 7\n",
        "model = keras.models.Sequential()\n",
        "\n",
        "\n",
        "model.add(keras.layers.InputLayer(input_shape=(1, 28, 28))) #Adding Input Layer\n",
        "\n",
        "model.add(keras.layers.BatchNormalization())#Addign Batch Normalization\n",
        "\n",
        "\n",
        "model.add(keras.layers.convolutional.Conv2D(64, (5, 5), activation='relu',\n",
        "          bias_initializer='RandomNormal', kernel_initializer='random_uniform',data_format='channels_first'))\n",
        "\n",
        "# adding Different Conv and pooling layers in the model\n",
        "model.add(keras.layers.convolutional.MaxPooling2D(pool_size=(2, 2)))\n",
        "\n",
        "model.add(keras.layers.convolutional.Conv2D(512, (5, 5), activation='relu'))\n",
        "\n",
        "model.add(keras.layers.convolutional .MaxPooling2D(pool_size=(2, 2)))\n",
        "\n",
        "model.add(keras.layers.Flatten())\n",
        "\n",
        "model.add(keras.layers.Dense(128, activation='relu'))\n",
        "\n",
        "model.add(keras.layers.Dropout(0.30)) #Adding Dropout Regularizatn\n",
        "\n",
        "model.add(keras.layers.Dense(64, activation='relu'))\n",
        "\n",
        "model.add(keras.layers.Dropout(0.40)) #Adding Dropout Regularizatn\n",
        "\n",
        "model.add(keras.layers.Dense(64, activation='relu'))\n",
        "\n",
        "model.add(keras.layers.Dropout(0.5)) #Adding Dropout Regularizatn\n",
        "\n",
        "model.add(keras.layers.Dense(n_classes, activation='softmax'))"
      ],
      "execution_count": 19,
      "outputs": [
        {
          "output_type": "stream",
          "text": [
            "WARNING:tensorflow:From /usr/local/lib/python3.6/dist-packages/tensorflow/python/framework/op_def_library.py:263: colocate_with (from tensorflow.python.framework.ops) is deprecated and will be removed in a future version.\n",
            "Instructions for updating:\n",
            "Colocations handled automatically by placer.\n",
            "WARNING:tensorflow:From /usr/local/lib/python3.6/dist-packages/keras/backend/tensorflow_backend.py:3445: calling dropout (from tensorflow.python.ops.nn_ops) with keep_prob is deprecated and will be removed in a future version.\n",
            "Instructions for updating:\n",
            "Please use `rate` instead of `keep_prob`. Rate should be set to `rate = 1 - keep_prob`.\n"
          ],
          "name": "stdout"
        }
      ]
    },
    {
      "metadata": {
        "colab_type": "code",
        "id": "lLTMzwN2zrot",
        "colab": {}
      },
      "cell_type": "code",
      "source": [
        "# Using Adam Optimizer\n",
        "\n",
        "from keras.optimizers import Adam\n",
        "optimizer = Adam(decay=0.001)"
      ],
      "execution_count": 0,
      "outputs": []
    },
    {
      "metadata": {
        "colab_type": "code",
        "id": "sOk0fBuj0k9T",
        "colab": {}
      },
      "cell_type": "code",
      "source": [
        "# compile the model\n",
        "model.compile(optimizer=optimizer,\n",
        "              loss='categorical_crossentropy',\n",
        "              metrics=['accuracy'])"
      ],
      "execution_count": 0,
      "outputs": []
    },
    {
      "metadata": {
        "colab_type": "code",
        "id": "YPAa5d9E0oW3",
        "outputId": "52efaf89-b178-45b7-dae1-fcf0d5aa328e",
        "colab": {
          "base_uri": "https://localhost:8080/",
          "height": 621
        }
      },
      "cell_type": "code",
      "source": [
        "# To show diffent layers present in the model\n",
        "\n",
        "print(model.summary())"
      ],
      "execution_count": 22,
      "outputs": [
        {
          "output_type": "stream",
          "text": [
            "_________________________________________________________________\n",
            "Layer (type)                 Output Shape              Param #   \n",
            "=================================================================\n",
            "batch_normalization_1 (Batch (None, 1, 28, 28)         112       \n",
            "_________________________________________________________________\n",
            "conv2d_1 (Conv2D)            (None, 64, 24, 24)        1664      \n",
            "_________________________________________________________________\n",
            "max_pooling2d_1 (MaxPooling2 (None, 32, 12, 24)        0         \n",
            "_________________________________________________________________\n",
            "conv2d_2 (Conv2D)            (None, 28, 8, 512)        307712    \n",
            "_________________________________________________________________\n",
            "max_pooling2d_2 (MaxPooling2 (None, 14, 4, 512)        0         \n",
            "_________________________________________________________________\n",
            "flatten_1 (Flatten)          (None, 28672)             0         \n",
            "_________________________________________________________________\n",
            "dense_1 (Dense)              (None, 128)               3670144   \n",
            "_________________________________________________________________\n",
            "dropout_1 (Dropout)          (None, 128)               0         \n",
            "_________________________________________________________________\n",
            "dense_2 (Dense)              (None, 64)                8256      \n",
            "_________________________________________________________________\n",
            "dropout_2 (Dropout)          (None, 64)                0         \n",
            "_________________________________________________________________\n",
            "dense_3 (Dense)              (None, 64)                4160      \n",
            "_________________________________________________________________\n",
            "dropout_3 (Dropout)          (None, 64)                0         \n",
            "_________________________________________________________________\n",
            "dense_4 (Dense)              (None, 7)                 455       \n",
            "=================================================================\n",
            "Total params: 3,992,503\n",
            "Trainable params: 3,992,447\n",
            "Non-trainable params: 56\n",
            "_________________________________________________________________\n",
            "None\n"
          ],
          "name": "stdout"
        }
      ]
    },
    {
      "metadata": {
        "colab_type": "code",
        "id": "TVBpRdsL0qMt",
        "outputId": "eaee4d0a-82b1-422b-857c-4d4aa82c4554",
        "colab": {
          "base_uri": "https://localhost:8080/",
          "height": 1174
        }
      },
      "cell_type": "code",
      "source": [
        "# training the model by feeding the Train_data and checking it in Val set\n",
        "training = model.fit(train_features, train_labels,\n",
        "                     validation_data=(val_features, val_labels),\n",
        "                     epochs=epochs,\n",
        "                     batch_size=batch_size, \n",
        "                     verbose=1)"
      ],
      "execution_count": 23,
      "outputs": [
        {
          "output_type": "stream",
          "text": [
            "WARNING:tensorflow:From /usr/local/lib/python3.6/dist-packages/tensorflow/python/ops/math_ops.py:3066: to_int32 (from tensorflow.python.ops.math_ops) is deprecated and will be removed in a future version.\n",
            "Instructions for updating:\n",
            "Use tf.cast instead.\n",
            "Train on 6800 samples, validate on 1200 samples\n",
            "Epoch 1/30\n",
            "6800/6800 [==============================] - 7s 1ms/step - loss: 1.6248 - acc: 0.3060 - val_loss: 1.1053 - val_acc: 0.6092\n",
            "Epoch 2/30\n",
            "6800/6800 [==============================] - 3s 380us/step - loss: 1.0697 - acc: 0.5534 - val_loss: 0.7262 - val_acc: 0.6700\n",
            "Epoch 3/30\n",
            "6800/6800 [==============================] - 3s 375us/step - loss: 0.8457 - acc: 0.6487 - val_loss: 0.6426 - val_acc: 0.7017\n",
            "Epoch 4/30\n",
            "6800/6800 [==============================] - 3s 376us/step - loss: 0.7348 - acc: 0.6890 - val_loss: 0.6201 - val_acc: 0.7492\n",
            "Epoch 5/30\n",
            "6800/6800 [==============================] - 3s 375us/step - loss: 0.6785 - acc: 0.7207 - val_loss: 0.6290 - val_acc: 0.7317\n",
            "Epoch 6/30\n",
            "6800/6800 [==============================] - 3s 375us/step - loss: 0.6308 - acc: 0.7528 - val_loss: 0.5407 - val_acc: 0.7842\n",
            "Epoch 7/30\n",
            "6800/6800 [==============================] - 3s 379us/step - loss: 0.5766 - acc: 0.7738 - val_loss: 0.4987 - val_acc: 0.8083\n",
            "Epoch 8/30\n",
            "6800/6800 [==============================] - 3s 374us/step - loss: 0.5344 - acc: 0.7947 - val_loss: 0.4734 - val_acc: 0.8125\n",
            "Epoch 9/30\n",
            "6800/6800 [==============================] - 3s 377us/step - loss: 0.4997 - acc: 0.8128 - val_loss: 0.4624 - val_acc: 0.8142\n",
            "Epoch 10/30\n",
            "6800/6800 [==============================] - 3s 375us/step - loss: 0.4724 - acc: 0.8329 - val_loss: 0.4227 - val_acc: 0.8350\n",
            "Epoch 11/30\n",
            "6800/6800 [==============================] - 3s 377us/step - loss: 0.4460 - acc: 0.8356 - val_loss: 0.4362 - val_acc: 0.8233\n",
            "Epoch 12/30\n",
            "6800/6800 [==============================] - 3s 374us/step - loss: 0.4248 - acc: 0.8465 - val_loss: 0.4564 - val_acc: 0.8292\n",
            "Epoch 13/30\n",
            "6800/6800 [==============================] - 3s 375us/step - loss: 0.4083 - acc: 0.8504 - val_loss: 0.4244 - val_acc: 0.8292\n",
            "Epoch 14/30\n",
            "6800/6800 [==============================] - 3s 377us/step - loss: 0.3941 - acc: 0.8606 - val_loss: 0.4011 - val_acc: 0.8533\n",
            "Epoch 15/30\n",
            "6800/6800 [==============================] - 3s 376us/step - loss: 0.3557 - acc: 0.8703 - val_loss: 0.4268 - val_acc: 0.8383\n",
            "Epoch 16/30\n",
            "6800/6800 [==============================] - 3s 377us/step - loss: 0.3470 - acc: 0.8785 - val_loss: 0.3976 - val_acc: 0.8517\n",
            "Epoch 17/30\n",
            "6800/6800 [==============================] - 3s 373us/step - loss: 0.3267 - acc: 0.8838 - val_loss: 0.3992 - val_acc: 0.8617\n",
            "Epoch 18/30\n",
            "6800/6800 [==============================] - 3s 376us/step - loss: 0.3069 - acc: 0.8941 - val_loss: 0.4646 - val_acc: 0.8350\n",
            "Epoch 19/30\n",
            "6800/6800 [==============================] - 3s 378us/step - loss: 0.2942 - acc: 0.8960 - val_loss: 0.4157 - val_acc: 0.8583\n",
            "Epoch 20/30\n",
            "6800/6800 [==============================] - 3s 376us/step - loss: 0.2667 - acc: 0.9084 - val_loss: 0.4391 - val_acc: 0.8567\n",
            "Epoch 21/30\n",
            "6800/6800 [==============================] - 3s 376us/step - loss: 0.2585 - acc: 0.9075 - val_loss: 0.4529 - val_acc: 0.8567\n",
            "Epoch 22/30\n",
            "6800/6800 [==============================] - 3s 375us/step - loss: 0.2498 - acc: 0.9099 - val_loss: 0.4424 - val_acc: 0.8492\n",
            "Epoch 23/30\n",
            "6800/6800 [==============================] - 3s 375us/step - loss: 0.2285 - acc: 0.9172 - val_loss: 0.4416 - val_acc: 0.8667\n",
            "Epoch 24/30\n",
            "6800/6800 [==============================] - 3s 375us/step - loss: 0.2163 - acc: 0.9253 - val_loss: 0.4715 - val_acc: 0.8642\n",
            "Epoch 25/30\n",
            "6800/6800 [==============================] - 3s 374us/step - loss: 0.1872 - acc: 0.9346 - val_loss: 0.4600 - val_acc: 0.8567\n",
            "Epoch 26/30\n",
            "6800/6800 [==============================] - 3s 376us/step - loss: 0.1779 - acc: 0.9391 - val_loss: 0.4927 - val_acc: 0.8617\n",
            "Epoch 27/30\n",
            "6800/6800 [==============================] - 3s 376us/step - loss: 0.1617 - acc: 0.9422 - val_loss: 0.5054 - val_acc: 0.8567\n",
            "Epoch 28/30\n",
            "6800/6800 [==============================] - 3s 376us/step - loss: 0.1522 - acc: 0.9471 - val_loss: 0.5079 - val_acc: 0.8542\n",
            "Epoch 29/30\n",
            "6800/6800 [==============================] - 3s 375us/step - loss: 0.1360 - acc: 0.9526 - val_loss: 0.5359 - val_acc: 0.8675\n",
            "Epoch 30/30\n",
            "6800/6800 [==============================] - 3s 375us/step - loss: 0.1394 - acc: 0.9526 - val_loss: 0.5680 - val_acc: 0.8608\n"
          ],
          "name": "stdout"
        }
      ]
    },
    {
      "metadata": {
        "colab_type": "code",
        "id": "sqsxiHyR4ff8",
        "colab": {}
      },
      "cell_type": "code",
      "source": [
        "# To print the test image\n",
        "test_images = np.array(test_images)"
      ],
      "execution_count": 0,
      "outputs": []
    },
    {
      "metadata": {
        "colab_type": "code",
        "id": "F3T1CAOO6Nc9",
        "outputId": "2cb0614c-aeb7-48b2-d9d9-cfaedfd24de2",
        "colab": {
          "base_uri": "https://localhost:8080/",
          "height": 34
        }
      },
      "cell_type": "code",
      "source": [
        "test_images.shape"
      ],
      "execution_count": 25,
      "outputs": [
        {
          "output_type": "execute_result",
          "data": {
            "text/plain": [
              "(2000, 784)"
            ]
          },
          "metadata": {
            "tags": []
          },
          "execution_count": 25
        }
      ]
    },
    {
      "metadata": {
        "colab_type": "code",
        "id": "bf__AI_A8U6D",
        "colab": {}
      },
      "cell_type": "code",
      "source": [
        "qwe = np.reshape(test_images, (test_images.shape[0], 28, 28))"
      ],
      "execution_count": 0,
      "outputs": []
    },
    {
      "metadata": {
        "colab_type": "code",
        "id": "DYnOHIo_64oN",
        "outputId": "71c091fc-6cf2-47b8-856f-ac646f7d6385",
        "colab": {
          "base_uri": "https://localhost:8080/",
          "height": 364
        }
      },
      "cell_type": "code",
      "source": [
        "plt.imshow(qwe[2])"
      ],
      "execution_count": 27,
      "outputs": [
        {
          "output_type": "execute_result",
          "data": {
            "text/plain": [
              "<matplotlib.image.AxesImage at 0x7fe436648668>"
            ]
          },
          "metadata": {
            "tags": []
          },
          "execution_count": 27
        },
        {
          "output_type": "display_data",
          "data": {
            "image/png": "[encoded data removed]",
            "text/plain": [
              "<Figure size 576x396 with 1 Axes>"
            ]
          },
          "metadata": {
            "tags": []
          }
        }
      ]
    },
    {
      "metadata": {
        "colab_type": "code",
        "id": "K5RLn2vg6Ps5",
        "colab": {}
      },
      "cell_type": "code",
      "source": [
        "# Reshaping the test set so that it could into the algo\n",
        "test_images = test_images.reshape((test_images.shape[0], 1, 28, 28))"
      ],
      "execution_count": 0,
      "outputs": []
    },
    {
      "metadata": {
        "colab_type": "code",
        "id": "n3iK1uW06pOn",
        "outputId": "fa385fc6-c333-4513-ee30-658ddf76919c",
        "colab": {
          "base_uri": "https://localhost:8080/",
          "height": 34
        }
      },
      "cell_type": "code",
      "source": [
        "test_images.shape"
      ],
      "execution_count": 29,
      "outputs": [
        {
          "output_type": "execute_result",
          "data": {
            "text/plain": [
              "(2000, 1, 28, 28)"
            ]
          },
          "metadata": {
            "tags": []
          },
          "execution_count": 29
        }
      ]
    },
    {
      "metadata": {
        "colab_type": "code",
        "id": "35vkvM2wZJyY",
        "colab": {}
      },
      "cell_type": "code",
      "source": [
        "# Predicting on the test set\n",
        "predict = model.predict(test_images)"
      ],
      "execution_count": 0,
      "outputs": []
    },
    {
      "metadata": {
        "colab_type": "code",
        "id": "vgF2Hle99j__",
        "outputId": "a57b03b2-f9fb-428c-e393-d80a2b41fba8",
        "colab": {
          "base_uri": "https://localhost:8080/",
          "height": 34
        }
      },
      "cell_type": "code",
      "source": [
        "predict.shape"
      ],
      "execution_count": 31,
      "outputs": [
        {
          "output_type": "execute_result",
          "data": {
            "text/plain": [
              "(2000, 7)"
            ]
          },
          "metadata": {
            "tags": []
          },
          "execution_count": 31
        }
      ]
    },
    {
      "metadata": {
        "colab_type": "code",
        "id": "j4CRKDcP-U4j",
        "colab": {}
      },
      "cell_type": "code",
      "source": [
        "predicted_class = np.argmax(predict, axis=1)"
      ],
      "execution_count": 0,
      "outputs": []
    },
    {
      "metadata": {
        "colab_type": "code",
        "id": "3mwgW7LY-qBL",
        "colab": {}
      },
      "cell_type": "code",
      "source": [
        "# creating the dataframe of the predictions done by the model\n",
        "df = pd.DataFrame(data=predicted_class, index = range(test_images.shape[0]))"
      ],
      "execution_count": 0,
      "outputs": []
    },
    {
      "metadata": {
        "colab_type": "code",
        "id": "u0qErl0V_ttz",
        "colab": {}
      },
      "cell_type": "code",
      "source": [
        "df.columns=['predicted class']"
      ],
      "execution_count": 0,
      "outputs": []
    },
    {
      "metadata": {
        "colab_type": "code",
        "id": "2DSP4yHfAkkf",
        "colab": {}
      },
      "cell_type": "code",
      "source": [
        "df.index.name = 'Test_image_index'"
      ],
      "execution_count": 0,
      "outputs": []
    },
    {
      "metadata": {
        "colab_type": "code",
        "id": "qm2gQlcuApRr",
        "outputId": "642e95f5-2b4d-4e0f-9620-ec8bed3d85f9",
        "colab": {
          "base_uri": "https://localhost:8080/",
          "height": 227
        }
      },
      "cell_type": "code",
      "source": [
        "df.head()"
      ],
      "execution_count": 36,
      "outputs": [
        {
          "output_type": "execute_result",
          "data": {
            "text/html": [
              "<div>\n",
              "<style scoped>\n",
              "    .dataframe tbody tr th:only-of-type {\n",
              "        vertical-align: middle;\n",
              "    }\n",
              "\n",
              "    .dataframe tbody tr th {\n",
              "        vertical-align: top;\n",
              "    }\n",
              "\n",
              "    .dataframe thead th {\n",
              "        text-align: right;\n",
              "    }\n",
              "</style>\n",
              "<table border=\"1\" class=\"dataframe\">\n",
              "  <thead>\n",
              "    <tr style=\"text-align: right;\">\n",
              "      <th></th>\n",
              "      <th>predicted class</th>\n",
              "    </tr>\n",
              "    <tr>\n",
              "      <th>Test_image_index</th>\n",
              "      <th></th>\n",
              "    </tr>\n",
              "  </thead>\n",
              "  <tbody>\n",
              "    <tr>\n",
              "      <th>0</th>\n",
              "      <td>0</td>\n",
              "    </tr>\n",
              "    <tr>\n",
              "      <th>1</th>\n",
              "      <td>0</td>\n",
              "    </tr>\n",
              "    <tr>\n",
              "      <th>2</th>\n",
              "      <td>0</td>\n",
              "    </tr>\n",
              "    <tr>\n",
              "      <th>3</th>\n",
              "      <td>0</td>\n",
              "    </tr>\n",
              "    <tr>\n",
              "      <th>4</th>\n",
              "      <td>0</td>\n",
              "    </tr>\n",
              "  </tbody>\n",
              "</table>\n",
              "</div>"
            ],
            "text/plain": [
              "                  predicted class\n",
              "Test_image_index                 \n",
              "0                               0\n",
              "1                               0\n",
              "2                               0\n",
              "3                               0\n",
              "4                               0"
            ]
          },
          "metadata": {
            "tags": []
          },
          "execution_count": 36
        }
      ]
    },
    {
      "metadata": {
        "colab_type": "code",
        "id": "W4ldGgvrA9v5",
        "colab": {}
      },
      "cell_type": "code",
      "source": [
        "# saving prediction into csv\n",
        "df.to_csv('kaushlendra_kumar_giri.csv')"
      ],
      "execution_count": 0,
      "outputs": []
    },
    {
      "metadata": {
        "colab_type": "code",
        "id": "aDzHrBQJCL3B",
        "colab": {}
      },
      "cell_type": "code",
      "source": [
        "# Downloading the csv from colab\n",
        "from google.colab import files\n",
        "files.download('kaushlendra_kumar_giri.csv')"
      ],
      "execution_count": 0,
      "outputs": []
    },
    {
      "metadata": {
        "colab_type": "code",
        "id": "aRRNTaJd9bd1",
        "colab": {}
      },
      "cell_type": "code",
      "source": [
        ""
      ],
      "execution_count": 0,
      "outputs": []
    }
  ]
}