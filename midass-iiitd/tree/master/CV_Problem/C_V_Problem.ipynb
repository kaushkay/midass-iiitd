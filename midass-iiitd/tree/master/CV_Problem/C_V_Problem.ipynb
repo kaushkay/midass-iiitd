{
  "nbformat": 4,
  "nbformat_minor": 0,
  "metadata": {
    "colab": {
      "name": "CONV_MODEL.ipynb",
      "version": "0.3.2",
      "provenance": [],
      "collapsed_sections": [],
      "include_colab_link": true
    },
    "kernelspec": {
      "name": "python3",
      "display_name": "Python 3"
    },
    "accelerator": "GPU"
  },
  "cells": [
    {
      "cell_type": "markdown",
      "metadata": {
        "id": "view-in-github",
        "colab_type": "text"
      },
      "source": [
        "<a href=\"https://colab.research.google.com/github/kaushkay/midass-iiitd/blob/master/midass-iiitd/tree/master/CV_Problem/C_V_Problem.ipynb\" target=\"_parent\"><img src=\"https://colab.research.google.com/assets/colab-badge.svg\" alt=\"Open In Colab\"/></a>"
      ]
    },
    {
      "metadata": {
        "id": "7dz-2b4CYCmG",
        "colab_type": "code",
        "outputId": "aca938a9-7a42-4cc4-9309-fafdc2999d16",
        "colab": {
          "base_uri": "https://localhost:8080/",
          "height": 34
        }
      },
      "cell_type": "code",
      "source": [
        "# Loading Dataset.\n",
        "\n",
        "from zipfile import ZipFile\n",
        "file_name = 'Vision_task_dataset_public-20190406T201525Z-001.zip'\n",
        "\n",
        "with ZipFile(file_name, 'r') as zip:\n",
        "    zip.extractall()\n",
        "    print(\"Done\")"
      ],
      "execution_count": 130,
      "outputs": [
        {
          "output_type": "stream",
          "text": [
            "Done\n"
          ],
          "name": "stdout"
        }
      ]
    },
    {
      "metadata": {
        "id": "hklleZQeZSUi",
        "colab_type": "code",
        "colab": {}
      },
      "cell_type": "code",
      "source": [
        "import numpy as np\n",
        "import pandas as pd\n",
        "import matplotlib.pyplot as plt"
      ],
      "execution_count": 0,
      "outputs": []
    },
    {
      "metadata": {
        "id": "7Hvk3kg9Z1dW",
        "colab_type": "code",
        "colab": {}
      },
      "cell_type": "code",
      "source": [
        "from keras.utils import np_utils\n",
        "import numpy as np\n",
        "import pandas as pd\n",
        "from sklearn.model_selection import train_test_split\n",
        "import tensorflow as tf\n",
        "import keras"
      ],
      "execution_count": 0,
      "outputs": []
    },
    {
      "metadata": {
        "id": "2p_9HTkcZ4Wi",
        "colab_type": "code",
        "colab": {}
      },
      "cell_type": "code",
      "source": [
        "train_images = pd.read_pickle('Vision_task_dataset_public/train_image.pkl')\n",
        "train_labels = pd.read_pickle('Vision_task_dataset_public/train_label.pkl')\n",
        "test_images = pd.read_pickle('Vision_task_dataset_public/test_image.pkl')"
      ],
      "execution_count": 0,
      "outputs": []
    },
    {
      "metadata": {
        "id": "rNH9PjvfopJg",
        "colab_type": "code",
        "colab": {
          "base_uri": "https://localhost:8080/",
          "height": 364
        },
        "outputId": "c46acf58-bef6-483c-de21-200d899b5d78"
      },
      "cell_type": "code",
      "source": [
        "# Plotting the image!\n",
        "\n",
        "xyz = np.array(train_images)\n",
        "xyz = np.reshape(xyz, (xyz.shape[0], 28, 28))\n",
        "plt.imshow(xyz[45])"
      ],
      "execution_count": 134,
      "outputs": [
        {
          "output_type": "execute_result",
          "data": {
            "text/plain": [
              "<matplotlib.image.AxesImage at 0x7f3f65d0e2b0>"
            ]
          },
          "metadata": {
            "tags": []
          },
          "execution_count": 134
        },
        {
          "output_type": "display_data",
          "data": {
            "image/png": "[encoded data removed]",
            "text/plain": [
              "<Figure size 576x396 with 1 Axes>"
            ]
          },
          "metadata": {
            "tags": []
          }
        }
      ]
    },
    {
      "metadata": {
        "id": "4TzalNo5ZJvG",
        "colab_type": "code",
        "colab": {}
      },
      "cell_type": "code",
      "source": [
        "images = np.array(train_images)\n",
        "images = np.reshape(images, (images.shape[0], 1, 28, 28))\n",
        "labels = np.array(train_labels)"
      ],
      "execution_count": 0,
      "outputs": []
    },
    {
      "metadata": {
        "id": "brbZ5dsmoFP8",
        "colab_type": "code",
        "colab": {
          "base_uri": "https://localhost:8080/",
          "height": 34
        },
        "outputId": "d8fca4d5-8be4-4b1a-b71b-9c368da025f6"
      },
      "cell_type": "code",
      "source": [
        "images.shape"
      ],
      "execution_count": 136,
      "outputs": [
        {
          "output_type": "execute_result",
          "data": {
            "text/plain": [
              "(8000, 1, 28, 28)"
            ]
          },
          "metadata": {
            "tags": []
          },
          "execution_count": 136
        }
      ]
    },
    {
      "metadata": {
        "id": "HEAZendaoHjK",
        "colab_type": "code",
        "colab": {
          "base_uri": "https://localhost:8080/",
          "height": 34
        },
        "outputId": "f90cff7e-49a7-4324-c930-6b20fc612c47"
      },
      "cell_type": "code",
      "source": [
        "labels.shape"
      ],
      "execution_count": 137,
      "outputs": [
        {
          "output_type": "execute_result",
          "data": {
            "text/plain": [
              "(8000,)"
            ]
          },
          "metadata": {
            "tags": []
          },
          "execution_count": 137
        }
      ]
    },
    {
      "metadata": {
        "id": "i4GcdJhnpROb",
        "colab_type": "code",
        "colab": {
          "base_uri": "https://localhost:8080/",
          "height": 34
        },
        "outputId": "a3092c27-14e6-4f45-a0b0-d94216a989a9"
      },
      "cell_type": "code",
      "source": [
        "np.unique(labels)"
      ],
      "execution_count": 138,
      "outputs": [
        {
          "output_type": "execute_result",
          "data": {
            "text/plain": [
              "array([0, 2, 3, 6])"
            ]
          },
          "metadata": {
            "tags": []
          },
          "execution_count": 138
        }
      ]
    },
    {
      "metadata": {
        "id": "3tUS4HGiqrfU",
        "colab_type": "code",
        "colab": {}
      },
      "cell_type": "code",
      "source": [
        "labels = np_utils.to_categorical(labels)"
      ],
      "execution_count": 0,
      "outputs": []
    },
    {
      "metadata": {
        "id": "4hFEjliurcss",
        "colab_type": "code",
        "colab": {
          "base_uri": "https://localhost:8080/",
          "height": 34
        },
        "outputId": "ce376710-b8c9-4f25-b78a-058bb3f7c2a8"
      },
      "cell_type": "code",
      "source": [
        "labels.shape"
      ],
      "execution_count": 140,
      "outputs": [
        {
          "output_type": "execute_result",
          "data": {
            "text/plain": [
              "(8000, 7)"
            ]
          },
          "metadata": {
            "tags": []
          },
          "execution_count": 140
        }
      ]
    },
    {
      "metadata": {
        "id": "fH5OqaiUswv2",
        "colab_type": "code",
        "colab": {}
      },
      "cell_type": "code",
      "source": [
        "train_features, val_features, train_labels, val_labels = train_test_split(images, labels, test_size=0.15)"
      ],
      "execution_count": 0,
      "outputs": []
    },
    {
      "metadata": {
        "id": "pWmJaBXgtNBo",
        "colab_type": "code",
        "colab": {
          "base_uri": "https://localhost:8080/",
          "height": 87
        },
        "outputId": "8d973a94-9e1f-423e-9983-af91378351a0"
      },
      "cell_type": "code",
      "source": [
        "print('train_features shape: ', train_features.shape)\n",
        "print('val_features shape: ', val_features.shape)\n",
        "print('train_labels shape: ', train_labels.shape)\n",
        "print('val_labels shape: ', val_labels.shape)"
      ],
      "execution_count": 142,
      "outputs": [
        {
          "output_type": "stream",
          "text": [
            "train_features shape:  (6800, 1, 28, 28)\n",
            "val_features shape:  (1200, 1, 28, 28)\n",
            "train_labels shape:  (6800, 7)\n",
            "val_labels shape:  (1200, 7)\n"
          ],
          "name": "stdout"
        }
      ]
    },
    {
      "metadata": {
        "id": "r2NhkABXtXlS",
        "colab_type": "code",
        "colab": {}
      },
      "cell_type": "code",
      "source": [
        "# hyperparameters\n",
        "epochs = 30\n",
        "batch_size = 256"
      ],
      "execution_count": 0,
      "outputs": []
    },
    {
      "metadata": {
        "id": "qgvedWuwt4Jy",
        "colab_type": "code",
        "colab": {}
      },
      "cell_type": "code",
      "source": [
        "# build model\n",
        "n_classes = 7\n",
        "model = keras.models.Sequential()\n",
        "\n",
        "\n",
        "# input layer\n",
        "model.add(InputLayer(input_shape=(1, 28, 28)))\n",
        "\n",
        "# normalization\n",
        "model.add(keras.layers.BatchNormalization())\n",
        "\n",
        "model.add(keras.layers.convolutional.Conv2D(64, (5, 5), activation='relu',\n",
        "          bias_initializer='RandomNormal', kernel_initializer='random_uniform',data_format='channels_first'))\n",
        "\n",
        "\n",
        "model.add(keras.layers.convolutional.MaxPooling2D(pool_size=(2, 2)))\n",
        "\n",
        "model.add(keras.layers.convolutional.Conv2D(512, (5, 5), activation='relu'))\n",
        "\n",
        "model.add(keras.layers.convolutional .MaxPooling2D(pool_size=(2, 2)))\n",
        "\n",
        "model.add(keras.layers.Flatten())\n",
        "\n",
        "model.add(keras.layers.Dense(128, activation='relu'))\n",
        "\n",
        "model.add(keras.layers.Dropout(0.30))\n",
        "\n",
        "model.add(keras.layers.Dense(64, activation='relu'))\n",
        "\n",
        "model.add(keras.layers.Dropout(0.40))\n",
        "\n",
        "model.add(Dense(64, activation='relu'))\n",
        "\n",
        "model.add(Dropout(0.5))\n",
        "\n",
        "model.add(keras.layers.Dense(n_classes, activation='softmax'))"
      ],
      "execution_count": 0,
      "outputs": []
    },
    {
      "metadata": {
        "id": "lLTMzwN2zrot",
        "colab_type": "code",
        "colab": {}
      },
      "cell_type": "code",
      "source": [
        "from keras.optimizers import Adam\n",
        "optimizer = Adam(decay=0.001)"
      ],
      "execution_count": 0,
      "outputs": []
    },
    {
      "metadata": {
        "id": "sOk0fBuj0k9T",
        "colab_type": "code",
        "colab": {}
      },
      "cell_type": "code",
      "source": [
        "# compile the model\n",
        "model.compile(optimizer=opt,\n",
        "              loss='categorical_crossentropy',\n",
        "              metrics=['accuracy'])"
      ],
      "execution_count": 0,
      "outputs": []
    },
    {
      "metadata": {
        "id": "YPAa5d9E0oW3",
        "colab_type": "code",
        "colab": {
          "base_uri": "https://localhost:8080/",
          "height": 621
        },
        "outputId": "383cee20-a6ee-4542-b4e2-225c4561ca35"
      },
      "cell_type": "code",
      "source": [
        "print(model.summary())"
      ],
      "execution_count": 147,
      "outputs": [
        {
          "output_type": "stream",
          "text": [
            "_________________________________________________________________\n",
            "Layer (type)                 Output Shape              Param #   \n",
            "=================================================================\n",
            "batch_normalization_18 (Batc (None, 1, 28, 28)         112       \n",
            "_________________________________________________________________\n",
            "conv2d_21 (Conv2D)           (None, 64, 24, 24)        1664      \n",
            "_________________________________________________________________\n",
            "max_pooling2d_13 (MaxPooling (None, 32, 12, 24)        0         \n",
            "_________________________________________________________________\n",
            "conv2d_22 (Conv2D)           (None, 28, 8, 512)        307712    \n",
            "_________________________________________________________________\n",
            "max_pooling2d_14 (MaxPooling (None, 14, 4, 512)        0         \n",
            "_________________________________________________________________\n",
            "flatten_7 (Flatten)          (None, 28672)             0         \n",
            "_________________________________________________________________\n",
            "dense_21 (Dense)             (None, 128)               3670144   \n",
            "_________________________________________________________________\n",
            "dropout_15 (Dropout)         (None, 128)               0         \n",
            "_________________________________________________________________\n",
            "dense_22 (Dense)             (None, 64)                8256      \n",
            "_________________________________________________________________\n",
            "dropout_16 (Dropout)         (None, 64)                0         \n",
            "_________________________________________________________________\n",
            "dense_23 (Dense)             (None, 64)                4160      \n",
            "_________________________________________________________________\n",
            "dropout_17 (Dropout)         (None, 64)                0         \n",
            "_________________________________________________________________\n",
            "dense_24 (Dense)             (None, 7)                 455       \n",
            "=================================================================\n",
            "Total params: 3,992,503\n",
            "Trainable params: 3,992,447\n",
            "Non-trainable params: 56\n",
            "_________________________________________________________________\n",
            "None\n"
          ],
          "name": "stdout"
        }
      ]
    },
    {
      "metadata": {
        "id": "TVBpRdsL0qMt",
        "colab_type": "code",
        "colab": {
          "base_uri": "https://localhost:8080/",
          "height": 1174
        },
        "outputId": "6a7eeddd-b22e-409e-dfa5-b735397d652c"
      },
      "cell_type": "code",
      "source": [
        "# training\n",
        "training = model.fit(train_features, train_labels,\n",
        "                     validation_data=(val_features, val_labels),\n",
        "                     epochs=epochs,\n",
        "                     batch_size=batch_size, \n",
        "                     verbose=1)"
      ],
      "execution_count": 119,
      "outputs": [
        {
          "output_type": "stream",
          "text": [
            "WARNING:tensorflow:From /usr/local/lib/python3.6/dist-packages/tensorflow/python/ops/math_ops.py:3066: to_int32 (from tensorflow.python.ops.math_ops) is deprecated and will be removed in a future version.\n",
            "Instructions for updating:\n",
            "Use tf.cast instead.\n",
            "Train on 6800 samples, validate on 1200 samples\n",
            "Epoch 1/30\n",
            "6800/6800 [==============================] - 7s 1ms/step - loss: 1.5569 - acc: 0.3663 - val_loss: 0.9077 - val_acc: 0.6550\n",
            "Epoch 2/30\n",
            "6800/6800 [==============================] - 2s 365us/step - loss: 0.9979 - acc: 0.5987 - val_loss: 0.6844 - val_acc: 0.6825\n",
            "Epoch 3/30\n",
            "6800/6800 [==============================] - 2s 367us/step - loss: 0.7904 - acc: 0.6762 - val_loss: 0.6282 - val_acc: 0.7167\n",
            "Epoch 4/30\n",
            "6800/6800 [==============================] - 2s 367us/step - loss: 0.6994 - acc: 0.7146 - val_loss: 0.5721 - val_acc: 0.7667\n",
            "Epoch 5/30\n",
            "6800/6800 [==============================] - 2s 366us/step - loss: 0.6543 - acc: 0.7415 - val_loss: 0.5444 - val_acc: 0.7758\n",
            "Epoch 6/30\n",
            "6800/6800 [==============================] - 2s 365us/step - loss: 0.5968 - acc: 0.7684 - val_loss: 0.4953 - val_acc: 0.8050\n",
            "Epoch 7/30\n",
            "6800/6800 [==============================] - 2s 366us/step - loss: 0.5511 - acc: 0.7854 - val_loss: 0.4890 - val_acc: 0.8033\n",
            "Epoch 8/30\n",
            "6800/6800 [==============================] - 2s 366us/step - loss: 0.5188 - acc: 0.8068 - val_loss: 0.4480 - val_acc: 0.8150\n",
            "Epoch 9/30\n",
            "6800/6800 [==============================] - 2s 366us/step - loss: 0.4959 - acc: 0.8181 - val_loss: 0.4530 - val_acc: 0.8192\n",
            "Epoch 10/30\n",
            "6800/6800 [==============================] - 2s 365us/step - loss: 0.4632 - acc: 0.8263 - val_loss: 0.4545 - val_acc: 0.8275\n",
            "Epoch 11/30\n",
            "6800/6800 [==============================] - 2s 365us/step - loss: 0.4451 - acc: 0.8369 - val_loss: 0.4291 - val_acc: 0.8317\n",
            "Epoch 12/30\n",
            "6800/6800 [==============================] - 3s 368us/step - loss: 0.4029 - acc: 0.8590 - val_loss: 0.4200 - val_acc: 0.8358\n",
            "Epoch 13/30\n",
            "6800/6800 [==============================] - 2s 367us/step - loss: 0.3857 - acc: 0.8635 - val_loss: 0.3919 - val_acc: 0.8617\n",
            "Epoch 14/30\n",
            "6800/6800 [==============================] - 2s 366us/step - loss: 0.3700 - acc: 0.8718 - val_loss: 0.3965 - val_acc: 0.8575\n",
            "Epoch 15/30\n",
            "6800/6800 [==============================] - 2s 365us/step - loss: 0.3461 - acc: 0.8775 - val_loss: 0.4388 - val_acc: 0.8300\n",
            "Epoch 16/30\n",
            "6800/6800 [==============================] - 2s 365us/step - loss: 0.3403 - acc: 0.8765 - val_loss: 0.3930 - val_acc: 0.8567\n",
            "Epoch 17/30\n",
            "6800/6800 [==============================] - 2s 367us/step - loss: 0.3058 - acc: 0.8931 - val_loss: 0.3950 - val_acc: 0.8492\n",
            "Epoch 18/30\n",
            "6800/6800 [==============================] - 2s 364us/step - loss: 0.2915 - acc: 0.8956 - val_loss: 0.3896 - val_acc: 0.8650\n",
            "Epoch 19/30\n",
            "6800/6800 [==============================] - 2s 365us/step - loss: 0.2799 - acc: 0.8975 - val_loss: 0.4182 - val_acc: 0.8592\n",
            "Epoch 20/30\n",
            "6800/6800 [==============================] - 2s 367us/step - loss: 0.2573 - acc: 0.9079 - val_loss: 0.3807 - val_acc: 0.8725\n",
            "Epoch 21/30\n",
            "6800/6800 [==============================] - 2s 365us/step - loss: 0.2444 - acc: 0.9131 - val_loss: 0.4496 - val_acc: 0.8575\n",
            "Epoch 22/30\n",
            "6800/6800 [==============================] - 2s 367us/step - loss: 0.2306 - acc: 0.9175 - val_loss: 0.4010 - val_acc: 0.8692\n",
            "Epoch 23/30\n",
            "6800/6800 [==============================] - 2s 366us/step - loss: 0.2293 - acc: 0.9187 - val_loss: 0.4199 - val_acc: 0.8675\n",
            "Epoch 24/30\n",
            "6800/6800 [==============================] - 2s 366us/step - loss: 0.1932 - acc: 0.9275 - val_loss: 0.4250 - val_acc: 0.8625\n",
            "Epoch 25/30\n",
            "6800/6800 [==============================] - 2s 366us/step - loss: 0.1875 - acc: 0.9340 - val_loss: 0.4574 - val_acc: 0.8600\n",
            "Epoch 26/30\n",
            "6800/6800 [==============================] - 2s 365us/step - loss: 0.1712 - acc: 0.9394 - val_loss: 0.4830 - val_acc: 0.8608\n",
            "Epoch 27/30\n",
            "6800/6800 [==============================] - 2s 367us/step - loss: 0.1555 - acc: 0.9472 - val_loss: 0.4805 - val_acc: 0.8625\n",
            "Epoch 28/30\n",
            "6800/6800 [==============================] - 2s 365us/step - loss: 0.1520 - acc: 0.9466 - val_loss: 0.5020 - val_acc: 0.8742\n",
            "Epoch 29/30\n",
            "6800/6800 [==============================] - 2s 364us/step - loss: 0.1449 - acc: 0.9501 - val_loss: 0.4602 - val_acc: 0.8717\n",
            "Epoch 30/30\n",
            "6800/6800 [==============================] - 2s 365us/step - loss: 0.1358 - acc: 0.9543 - val_loss: 0.5011 - val_acc: 0.8717\n"
          ],
          "name": "stdout"
        }
      ]
    },
    {
      "metadata": {
        "id": "sqsxiHyR4ff8",
        "colab_type": "code",
        "colab": {}
      },
      "cell_type": "code",
      "source": [
        "test_images = np.array(test_images)"
      ],
      "execution_count": 0,
      "outputs": []
    },
    {
      "metadata": {
        "id": "F3T1CAOO6Nc9",
        "colab_type": "code",
        "colab": {
          "base_uri": "https://localhost:8080/",
          "height": 34
        },
        "outputId": "947d30e6-fcf7-4e70-8869-6321ac465f55"
      },
      "cell_type": "code",
      "source": [
        "test_images.shape"
      ],
      "execution_count": 149,
      "outputs": [
        {
          "output_type": "execute_result",
          "data": {
            "text/plain": [
              "(2000, 784)"
            ]
          },
          "metadata": {
            "tags": []
          },
          "execution_count": 149
        }
      ]
    },
    {
      "metadata": {
        "id": "bf__AI_A8U6D",
        "colab_type": "code",
        "colab": {}
      },
      "cell_type": "code",
      "source": [
        "qwe = np.reshape(test_images, (test_images.shape[0], 28, 28))"
      ],
      "execution_count": 0,
      "outputs": []
    },
    {
      "metadata": {
        "id": "DYnOHIo_64oN",
        "colab_type": "code",
        "colab": {
          "base_uri": "https://localhost:8080/",
          "height": 364
        },
        "outputId": "78021f98-9e2a-49ff-a8d7-a09bf7fc4679"
      },
      "cell_type": "code",
      "source": [
        "plt.imshow(qwe[2])"
      ],
      "execution_count": 152,
      "outputs": [
        {
          "output_type": "execute_result",
          "data": {
            "text/plain": [
              "<matplotlib.image.AxesImage at 0x7f3f4aab22b0>"
            ]
          },
          "metadata": {
            "tags": []
          },
          "execution_count": 152
        },
        {
          "output_type": "display_data",
          "data": {
            "image/png": "[encoded data removed]",
            "text/plain": [
              "<Figure size 576x396 with 1 Axes>"
            ]
          },
          "metadata": {
            "tags": []
          }
        }
      ]
    },
    {
      "metadata": {
        "id": "K5RLn2vg6Ps5",
        "colab_type": "code",
        "colab": {}
      },
      "cell_type": "code",
      "source": [
        "test_images = test_images.reshape((test_images.shape[0], 1, 28, 28))"
      ],
      "execution_count": 0,
      "outputs": []
    },
    {
      "metadata": {
        "id": "n3iK1uW06pOn",
        "colab_type": "code",
        "colab": {
          "base_uri": "https://localhost:8080/",
          "height": 34
        },
        "outputId": "cdd1d0dd-ca06-4fa4-8e09-5237d7229be3"
      },
      "cell_type": "code",
      "source": [
        "test_images.shape"
      ],
      "execution_count": 155,
      "outputs": [
        {
          "output_type": "execute_result",
          "data": {
            "text/plain": [
              "(2000, 1, 28, 28)"
            ]
          },
          "metadata": {
            "tags": []
          },
          "execution_count": 155
        }
      ]
    },
    {
      "metadata": {
        "id": "35vkvM2wZJyY",
        "colab_type": "code",
        "colab": {}
      },
      "cell_type": "code",
      "source": [
        "predict = model.predict(test_images)"
      ],
      "execution_count": 0,
      "outputs": []
    },
    {
      "metadata": {
        "id": "vgF2Hle99j__",
        "colab_type": "code",
        "colab": {
          "base_uri": "https://localhost:8080/",
          "height": 34
        },
        "outputId": "dc18c38f-271d-4082-c304-718974607da0"
      },
      "cell_type": "code",
      "source": [
        "predict.shape"
      ],
      "execution_count": 160,
      "outputs": [
        {
          "output_type": "execute_result",
          "data": {
            "text/plain": [
              "(2000, 7)"
            ]
          },
          "metadata": {
            "tags": []
          },
          "execution_count": 160
        }
      ]
    },
    {
      "metadata": {
        "id": "j4CRKDcP-U4j",
        "colab_type": "code",
        "colab": {}
      },
      "cell_type": "code",
      "source": [
        "predicted_class = np.argmax(predict, axis=1)"
      ],
      "execution_count": 0,
      "outputs": []
    },
    {
      "metadata": {
        "id": "3mwgW7LY-qBL",
        "colab_type": "code",
        "colab": {}
      },
      "cell_type": "code",
      "source": [
        "df = pd.DataFrame(data=predicted_class, index = range(test_images.shape[0]))"
      ],
      "execution_count": 0,
      "outputs": []
    },
    {
      "metadata": {
        "id": "u0qErl0V_ttz",
        "colab_type": "code",
        "colab": {}
      },
      "cell_type": "code",
      "source": [
        "df.columns=['predicted class']"
      ],
      "execution_count": 0,
      "outputs": []
    },
    {
      "metadata": {
        "id": "2DSP4yHfAkkf",
        "colab_type": "code",
        "colab": {}
      },
      "cell_type": "code",
      "source": [
        "df.index.name = 'Test_image_index'"
      ],
      "execution_count": 0,
      "outputs": []
    },
    {
      "metadata": {
        "id": "qm2gQlcuApRr",
        "colab_type": "code",
        "colab": {
          "base_uri": "https://localhost:8080/",
          "height": 227
        },
        "outputId": "409773d5-7690-4fe5-d3d2-ee947cef1366"
      },
      "cell_type": "code",
      "source": [
        "df.head()"
      ],
      "execution_count": 179,
      "outputs": [
        {
          "output_type": "execute_result",
          "data": {
            "text/html": [
              "<div>\n",
              "<style scoped>\n",
              "    .dataframe tbody tr th:only-of-type {\n",
              "        vertical-align: middle;\n",
              "    }\n",
              "\n",
              "    .dataframe tbody tr th {\n",
              "        vertical-align: top;\n",
              "    }\n",
              "\n",
              "    .dataframe thead th {\n",
              "        text-align: right;\n",
              "    }\n",
              "</style>\n",
              "<table border=\"1\" class=\"dataframe\">\n",
              "  <thead>\n",
              "    <tr style=\"text-align: right;\">\n",
              "      <th></th>\n",
              "      <th>predicted class</th>\n",
              "    </tr>\n",
              "    <tr>\n",
              "      <th>Test_image_index</th>\n",
              "      <th></th>\n",
              "    </tr>\n",
              "  </thead>\n",
              "  <tbody>\n",
              "    <tr>\n",
              "      <th>0</th>\n",
              "      <td>6</td>\n",
              "    </tr>\n",
              "    <tr>\n",
              "      <th>1</th>\n",
              "      <td>6</td>\n",
              "    </tr>\n",
              "    <tr>\n",
              "      <th>2</th>\n",
              "      <td>6</td>\n",
              "    </tr>\n",
              "    <tr>\n",
              "      <th>3</th>\n",
              "      <td>6</td>\n",
              "    </tr>\n",
              "    <tr>\n",
              "      <th>4</th>\n",
              "      <td>6</td>\n",
              "    </tr>\n",
              "  </tbody>\n",
              "</table>\n",
              "</div>"
            ],
            "text/plain": [
              "                  predicted class\n",
              "Test_image_index                 \n",
              "0                               6\n",
              "1                               6\n",
              "2                               6\n",
              "3                               6\n",
              "4                               6"
            ]
          },
          "metadata": {
            "tags": []
          },
          "execution_count": 179
        }
      ]
    },
    {
      "metadata": {
        "id": "W4ldGgvrA9v5",
        "colab_type": "code",
        "colab": {}
      },
      "cell_type": "code",
      "source": [
        "df.to_csv('kaushlendra_kumar_giri.csv')"
      ],
      "execution_count": 0,
      "outputs": []
    },
    {
      "metadata": {
        "id": "aDzHrBQJCL3B",
        "colab_type": "code",
        "colab": {}
      },
      "cell_type": "code",
      "source": [
        ""
      ],
      "execution_count": 0,
      "outputs": []
    },
    {
      "metadata": {
        "id": "IPcGThI_Blh4",
        "colab_type": "code",
        "colab": {}
      },
      "cell_type": "code",
      "source": [
        ""
      ],
      "execution_count": 0,
      "outputs": []
    },
    {
      "metadata": {
        "id": "buI2CZgGAuYv",
        "colab_type": "code",
        "colab": {}
      },
      "cell_type": "code",
      "source": [
        ""
      ],
      "execution_count": 0,
      "outputs": []
    },
    {
      "metadata": {
        "id": "UcZHJJTCAebp",
        "colab_type": "code",
        "colab": {}
      },
      "cell_type": "code",
      "source": [
        ""
      ],
      "execution_count": 0,
      "outputs": []
    },
    {
      "metadata": {
        "id": "vRBAWENbAQKE",
        "colab_type": "code",
        "colab": {}
      },
      "cell_type": "code",
      "source": [
        ""
      ],
      "execution_count": 0,
      "outputs": []
    },
    {
      "metadata": {
        "id": "ZC80e8paALta",
        "colab_type": "code",
        "colab": {}
      },
      "cell_type": "code",
      "source": [
        ""
      ],
      "execution_count": 0,
      "outputs": []
    },
    {
      "metadata": {
        "id": "cIoLO5bJ_wiv",
        "colab_type": "code",
        "colab": {}
      },
      "cell_type": "code",
      "source": [
        ""
      ],
      "execution_count": 0,
      "outputs": []
    },
    {
      "metadata": {
        "id": "6PJUH5mt_kXz",
        "colab_type": "code",
        "colab": {}
      },
      "cell_type": "code",
      "source": [
        ""
      ],
      "execution_count": 0,
      "outputs": []
    },
    {
      "metadata": {
        "id": "bOAR0q3s-3ss",
        "colab_type": "code",
        "colab": {}
      },
      "cell_type": "code",
      "source": [
        ""
      ],
      "execution_count": 0,
      "outputs": []
    },
    {
      "metadata": {
        "id": "J7qA_gL0-zXN",
        "colab_type": "code",
        "colab": {}
      },
      "cell_type": "code",
      "source": [
        ""
      ],
      "execution_count": 0,
      "outputs": []
    },
    {
      "metadata": {
        "id": "0OT0zG63-v5v",
        "colab_type": "code",
        "colab": {}
      },
      "cell_type": "code",
      "source": [
        ""
      ],
      "execution_count": 0,
      "outputs": []
    },
    {
      "metadata": {
        "id": "xyoY0Gfq-sIF",
        "colab_type": "code",
        "colab": {}
      },
      "cell_type": "code",
      "source": [
        ""
      ],
      "execution_count": 0,
      "outputs": []
    },
    {
      "metadata": {
        "id": "PDs-4BMe96WP",
        "colab_type": "code",
        "colab": {}
      },
      "cell_type": "code",
      "source": [
        ""
      ],
      "execution_count": 0,
      "outputs": []
    },
    {
      "metadata": {
        "id": "i5Z0jyID93-3",
        "colab_type": "code",
        "colab": {}
      },
      "cell_type": "code",
      "source": [
        ""
      ],
      "execution_count": 0,
      "outputs": []
    },
    {
      "metadata": {
        "id": "cJ0ruSSM9qBy",
        "colab_type": "code",
        "colab": {}
      },
      "cell_type": "code",
      "source": [
        ""
      ],
      "execution_count": 0,
      "outputs": []
    },
    {
      "metadata": {
        "id": "aRRNTaJd9bd1",
        "colab_type": "code",
        "colab": {}
      },
      "cell_type": "code",
      "source": [
        ""
      ],
      "execution_count": 0,
      "outputs": []
    }
  ]
}