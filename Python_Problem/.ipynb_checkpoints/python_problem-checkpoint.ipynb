{
 "cells": [
  {
   "cell_type": "markdown",
   "metadata": {},
   "source": [
    "PART 1:"
   ]
  },
  {
   "cell_type": "code",
   "execution_count": 1,
   "metadata": {},
   "outputs": [],
   "source": [
    "import tweepy\n",
    "import requests\n",
    "import json\n",
    "import pandas as pd\n",
    "import requests"
   ]
  },
  {
   "cell_type": "code",
   "execution_count": 2,
   "metadata": {},
   "outputs": [],
   "source": [
    "credentials = {}\n",
    "credentials['CONSUMER_KEY'] = '_____________________'  \n",
    "credentials['CONSUMER_SECRET'] = '__________________________'  \n",
    "credentials['ACCESS_TOKEN'] = '____________________________'  \n",
    "credentials['ACCESS_SECRET'] = '___________________________'"
   ]
  },
  {
   "cell_type": "code",
   "execution_count": 3,
   "metadata": {},
   "outputs": [],
   "source": [
    "# python script which can fetch all the tweets(as many as allowed by Twitter API) done by midas@IIITD\n",
    "\n",
    "def get_all_tweets(screen_name, limit=199):\n",
    "    \n",
    "    # as maximum can be only 200\n",
    "    \n",
    "    # authorize twitter, initialize tweepy\n",
    "    auth = tweepy.OAuthHandler(credentials['CONSUMER_KEY'], credentials['CONSUMER_SECRET'])\n",
    "    auth.set_access_token(credentials['ACCESS_TOKEN'], credentials['ACCESS_SECRET'])\n",
    "    api = tweepy.API(auth)\n",
    "    \n",
    "    ScreenName_cursor = tweepy.Cursor(api.user_timeline, screen_name=screen_name)\n",
    "    \n",
    "    ScreenName_tweets = []\n",
    "    for tweet in ScreenName_cursor.items(limit):\n",
    "        ScreenName_tweets.append(tweet._json)\n",
    "        \n",
    "    \n",
    "    return ScreenName_tweets\n"
   ]
  },
  {
   "cell_type": "code",
   "execution_count": 4,
   "metadata": {},
   "outputs": [],
   "source": [
    "# Dumping into json.\n",
    "with open(\"tweets.json\", \"w\") as write_file:\n",
    "    json.dump(get_all_tweets(\"midasIIITD\"), write_file, skipkeys=True)"
   ]
  },
  {
   "cell_type": "markdown",
   "metadata": {},
   "source": [
    "*******************************************************************************************************************"
   ]
  },
  {
   "cell_type": "markdown",
   "metadata": {},
   "source": [
    "*******************************************************************************************************************"
   ]
  },
  {
   "cell_type": "markdown",
   "metadata": {},
   "source": [
    "PART 2:"
   ]
  },
  {
   "cell_type": "code",
   "execution_count": 5,
   "metadata": {},
   "outputs": [],
   "source": [
    "with open(\"tweets.json\", errors='ignore') as json_data:\n",
    "     all_tweets = json.load(json_data, strict=False)"
   ]
  },
  {
   "cell_type": "code",
   "execution_count": 6,
   "metadata": {},
   "outputs": [],
   "source": [
    "def store_tweets(all_tweets):\n",
    "    \n",
    "    # a list of all formatted tweets\n",
    "    tweet_list=[]\n",
    "    \n",
    "    for tweet in all_tweets:\n",
    "         # a dict to contain information about single tweet\n",
    "        tweet_information = dict()\n",
    "        \n",
    "        # text of tweet\n",
    "        tweet_information['text']=tweet['text']\n",
    "        \n",
    "        \n",
    "        # date and time at which tweet was created\n",
    "        tweet_information['created_at']=tweet['created_at']\n",
    "        \n",
    "        # favourites/likes count\n",
    "        tweet_information['favorite_count']=tweet['favorite_count']\n",
    "        \n",
    "        # retweet count\n",
    "        tweet_information['retweet_count']=tweet['retweet_count']\n",
    "        \n",
    "        # image count\n",
    "        \n",
    "        n = 0\n",
    "        try:\n",
    "            for media in tweet['extended_entities'][\"media\"]:\n",
    "                n=n+1\n",
    "        except:\n",
    "            n=n\n",
    "        if n>0:\n",
    "            tweet_information['number_of_images_posted_by_user']=n\n",
    "        else:\n",
    "            tweet_information['number_of_images_posted_by_user']=None\n",
    "            \n",
    "        \n",
    "        # add this tweet to the tweet_list\n",
    "        tweet_list.append(tweet_information)\n",
    "        \n",
    "    \n",
    "    return tweet_list\n",
    "        "
   ]
  },
  {
   "cell_type": "code",
   "execution_count": 7,
   "metadata": {},
   "outputs": [],
   "source": [
    "main = store_tweets(all_tweets)"
   ]
  },
  {
   "cell_type": "code",
   "execution_count": 8,
   "metadata": {},
   "outputs": [],
   "source": [
    "df = pd.DataFrame(main)"
   ]
  },
  {
   "cell_type": "code",
   "execution_count": null,
   "metadata": {},
   "outputs": [],
   "source": [
    "df.head()"
   ]
  }
 ],
 "metadata": {
  "kernelspec": {
   "display_name": "Python 3",
   "language": "python",
   "name": "python3"
  },
  "language_info": {
   "codemirror_mode": {
    "name": "ipython",
    "version": 3
   },
   "file_extension": ".py",
   "mimetype": "text/x-python",
   "name": "python",
   "nbconvert_exporter": "python",
   "pygments_lexer": "ipython3",
   "version": "3.7.0"
  }
 },
 "nbformat": 4,
 "nbformat_minor": 2
}
